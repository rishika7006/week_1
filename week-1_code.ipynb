{
 "cells": [
  {
   "cell_type": "code",
   "execution_count": 4,
   "metadata": {},
   "outputs": [],
   "source": [
    "import pandas as pd\n",
    "import json\n",
    "import time\n",
    "import csv\n",
    "import requests\n",
    "import random"
   ]
  },
  {
   "cell_type": "code",
   "execution_count": 3,
   "metadata": {},
   "outputs": [
    {
     "name": "stdout",
     "output_type": "stream",
     "text": [
      "[{'Headline': \"IMAX film 'National Parks Adventure' celebrates parks\", 'Summary': 'A new IMAX movie debuts Friday, starring geysers, red rock canyons, mountaintops and redwood forests. Called \"National Parks Adventure,\" the film celebrates ...', 'Link': '/wires/ap/article-3442881/IMAX-film-National-Parks-Adventure-celebrates-parks.html', 'Query': 'parks', 'search_page_url': 'https://www.dailymail.co.uk/home/search.html?offset=0&size=50&sel=site&searchPhrase=parks&sort=relevant&type=article&days=all'}, {'Headline': 'PARKS ANNOUNCES RETIREMENT', 'Summary': 'Former Scotland fly-half Dan Parks has announced his retirement from rugby. Parks won 67 caps during an eight-year international career that ended when he st...', 'Link': '/wires/pa/article-2668993/PARKS-ANNOUNCES-RETIREMENT.html', 'Query': 'parks', 'search_page_url': 'https://www.dailymail.co.uk/home/search.html?offset=0&size=50&sel=site&searchPhrase=parks&sort=relevant&type=article&days=all'}]\n"
     ]
    }
   ],
   "source": [
    "list3 = []\n",
    "for line in open('compile.json', 'r'):\n",
    "    list3.append(json.loads(line))\n",
    "print(list3[:2])"
   ]
  },
  {
   "cell_type": "code",
   "execution_count": null,
   "metadata": {},
   "outputs": [],
   "source": [
    "type(list3)"
   ]
  },
  {
   "cell_type": "code",
   "execution_count": 3,
   "metadata": {
    "scrolled": true
   },
   "outputs": [
    {
     "data": {
      "text/html": [
       "<div>\n",
       "<style scoped>\n",
       "    .dataframe tbody tr th:only-of-type {\n",
       "        vertical-align: middle;\n",
       "    }\n",
       "\n",
       "    .dataframe tbody tr th {\n",
       "        vertical-align: top;\n",
       "    }\n",
       "\n",
       "    .dataframe thead th {\n",
       "        text-align: right;\n",
       "    }\n",
       "</style>\n",
       "<table border=\"1\" class=\"dataframe\">\n",
       "  <thead>\n",
       "    <tr style=\"text-align: right;\">\n",
       "      <th></th>\n",
       "      <th>Headline</th>\n",
       "      <th>Summary</th>\n",
       "      <th>Link</th>\n",
       "      <th>Query</th>\n",
       "      <th>search_page_url</th>\n",
       "    </tr>\n",
       "  </thead>\n",
       "  <tbody>\n",
       "    <tr>\n",
       "      <th>0</th>\n",
       "      <td>IMAX film 'National Parks Adventure' celebrate...</td>\n",
       "      <td>A new IMAX movie debuts Friday, starring geyse...</td>\n",
       "      <td>/wires/ap/article-3442881/IMAX-film-National-P...</td>\n",
       "      <td>parks</td>\n",
       "      <td>https://www.dailymail.co.uk/home/search.html?o...</td>\n",
       "    </tr>\n",
       "    <tr>\n",
       "      <th>1</th>\n",
       "      <td>PARKS ANNOUNCES RETIREMENT</td>\n",
       "      <td>Former Scotland fly-half Dan Parks has announc...</td>\n",
       "      <td>/wires/pa/article-2668993/PARKS-ANNOUNCES-RETI...</td>\n",
       "      <td>parks</td>\n",
       "      <td>https://www.dailymail.co.uk/home/search.html?o...</td>\n",
       "    </tr>\n",
       "    <tr>\n",
       "      <th>2</th>\n",
       "      <td>PARKS SECURE £34.5M LOTTERY CASH</td>\n",
       "      <td>Parks across the UK have been awarded £34.5 mi...</td>\n",
       "      <td>/wires/pa/article-2683442/PARKS-SECURE-34-5M-L...</td>\n",
       "      <td>parks</td>\n",
       "      <td>https://www.dailymail.co.uk/home/search.html?o...</td>\n",
       "    </tr>\n",
       "    <tr>\n",
       "      <th>3</th>\n",
       "      <td>'Reinstate Qld parks': conservationists</td>\n",
       "      <td>Conservationists want the Queensland governmen...</td>\n",
       "      <td>/wires/aap/article-3057005/Reinstate-Qld-parks...</td>\n",
       "      <td>parks</td>\n",
       "      <td>https://www.dailymail.co.uk/home/search.html?o...</td>\n",
       "    </tr>\n",
       "    <tr>\n",
       "      <th>4</th>\n",
       "      <td>Tim Parks: THE SERVER</td>\n",
       "      <td>‘Sit in silence and be still’ - that’s what yo...</td>\n",
       "      <td>/home/books/article-2142406/Tim-Parks-THE-SERV...</td>\n",
       "      <td>parks</td>\n",
       "      <td>https://www.dailymail.co.uk/home/search.html?o...</td>\n",
       "    </tr>\n",
       "  </tbody>\n",
       "</table>\n",
       "</div>"
      ],
      "text/plain": [
       "                                            Headline  \\\n",
       "0  IMAX film 'National Parks Adventure' celebrate...   \n",
       "1                         PARKS ANNOUNCES RETIREMENT   \n",
       "2                   PARKS SECURE £34.5M LOTTERY CASH   \n",
       "3            'Reinstate Qld parks': conservationists   \n",
       "4                              Tim Parks: THE SERVER   \n",
       "\n",
       "                                             Summary  \\\n",
       "0  A new IMAX movie debuts Friday, starring geyse...   \n",
       "1  Former Scotland fly-half Dan Parks has announc...   \n",
       "2  Parks across the UK have been awarded £34.5 mi...   \n",
       "3  Conservationists want the Queensland governmen...   \n",
       "4  ‘Sit in silence and be still’ - that’s what yo...   \n",
       "\n",
       "                                                Link  Query  \\\n",
       "0  /wires/ap/article-3442881/IMAX-film-National-P...  parks   \n",
       "1  /wires/pa/article-2668993/PARKS-ANNOUNCES-RETI...  parks   \n",
       "2  /wires/pa/article-2683442/PARKS-SECURE-34-5M-L...  parks   \n",
       "3  /wires/aap/article-3057005/Reinstate-Qld-parks...  parks   \n",
       "4  /home/books/article-2142406/Tim-Parks-THE-SERV...  parks   \n",
       "\n",
       "                                     search_page_url  \n",
       "0  https://www.dailymail.co.uk/home/search.html?o...  \n",
       "1  https://www.dailymail.co.uk/home/search.html?o...  \n",
       "2  https://www.dailymail.co.uk/home/search.html?o...  \n",
       "3  https://www.dailymail.co.uk/home/search.html?o...  \n",
       "4  https://www.dailymail.co.uk/home/search.html?o...  "
      ]
     },
     "execution_count": 3,
     "metadata": {},
     "output_type": "execute_result"
    }
   ],
   "source": [
    "df = pd.DataFrame(list3)\n",
    "df.head()"
   ]
  },
  {
   "cell_type": "code",
   "execution_count": 15,
   "metadata": {},
   "outputs": [
    {
     "name": "stdout",
     "output_type": "stream",
     "text": [
      "Mozilla/5.0 (Windows NT 6.1; WOW64; rv:31.0) Gecko/20130401 Firefox/31.0\n"
     ]
    }
   ],
   "source": [
    "from fake_useragent import UserAgent\n",
    "ua = UserAgent()\n",
    "print(ua.random)"
   ]
  },
  {
   "cell_type": "code",
   "execution_count": null,
   "metadata": {},
   "outputs": [],
   "source": [
    "from newspaper import Article\n",
    "title_comp = []\n",
    "date_comp = []\n",
    "authors_comp = []\n",
    "text_comp = []\n",
    "top_image_comp = []\n",
    "movies_comp = []\n",
    "query_comp = []\n",
    "sp_url_comp = []\n",
    "page_url_comp = []\n",
    "\n",
    "for link,query,sp_url in zip(df['Link'],df['Query'],df['search_page_url']):\n",
    "    user_agent_list = [\n",
    "    'Mozilla/5.0 (Windows NT 5.1) AppleWebKit/537.36 (KHTML, like Gecko) Chrome/35.0.2309.372 Safari/537.36',\n",
    "    'Mozilla/5.0 (Windows NT 6.1) AppleWebKit/537.36 (KHTML, like Gecko) Chrome/41.0.2228.0 Safari/537.36',\n",
    "    'Mozilla/5.0 (Windows NT 6.2; WOW64) AppleWebKit/537.36 (KHTML, like Gecko) Chrome/29.0.1547.2 Safari/537.36',\n",
    "    'Mozilla/5.0 (Windows NT 6.2) AppleWebKit/537.36 (KHTML, like Gecko) Chrome/28.0.1464.0 Safari/537.36',\n",
    "    'Mozilla/5.0 (Windows NT 5.1) AppleWebKit/537.36 (KHTML, like Gecko) Chrome/35.0.2309.372 Safari/537.36',\n",
    "    'Mozilla/5.0 (X11; Ubuntu; Linux i686 on x86_64) AppleWebKit/537.36 (KHTML, like Gecko) Chrome/53.0.2820.59 Safari/537.36',\n",
    "    'Mozilla/5.0 (Windows NT 6.1; WOW64; rv:31.0) Gecko/20130401 Firefox/31.0'\n",
    "    ]\n",
    "    url = \"https://www.dailymail.co.uk\" + link\n",
    "    for i in range(1,4):\n",
    "        #Pick a random user agent\n",
    "        user_agent = random.choice(user_agent_list)\n",
    "        #Set the headers \n",
    "        headers = {'User-Agent': user_agent}\n",
    "        #Make the request\n",
    "        r = requests.get(url, headers=headers)\n",
    "   \n",
    "        article = Article(url)\n",
    "        download = article.download()\n",
    "        article.html\n",
    "        article.parse()\n",
    "        try:\n",
    "            title = article.title\n",
    "        except Exception as E:\n",
    "            title = \"\"\n",
    "        title_comp.append(article.title)\n",
    "\n",
    "        try:\n",
    "            publish_date = article.publish_date\n",
    "        except Exception as E:\n",
    "            publish_date = \"\"\n",
    "        date_comp.append(article.publish_date)\n",
    "\n",
    "        try:\n",
    "            authors = article.authors\n",
    "        except Exception as E:\n",
    "            authors = \"\"\n",
    "        authors_comp.append(article.authors)\n",
    "\n",
    "        try:\n",
    "            text = article.text\n",
    "        except Exception as E:\n",
    "            text = \"\"\n",
    "        text_comp.append(article.text)\n",
    "\n",
    "        try:\n",
    "            top_image = article.top_image\n",
    "        except Exception as E:\n",
    "            top_image = \"\"\n",
    "        top_image_comp.append(article.top_image)\n",
    "\n",
    "        try:\n",
    "            movies = article.movies\n",
    "        except Exception as E:\n",
    "            movies = \"\"\n",
    "        movies_comp.append(article.movies)\n",
    "        \n",
    "        page_url_comp.append(url)\n",
    "        query_comp.append(query)\n",
    "        sp_url_comp.append(sp_url)\n",
    "        time.sleep(4)\n",
    "\n",
    "#print(query_comp)\n",
    "#print(sp_url_comp)\n",
    "#print(page_url_comp)\n",
    "#print(title_comp)\n",
    "#print(date_comp)\n",
    "#print(authors_comp)\n",
    "#print(text_comp)\n",
    "#print(top_image_comp)\n",
    "#print(movies_comp)"
   ]
  },
  {
   "cell_type": "code",
   "execution_count": null,
   "metadata": {},
   "outputs": [],
   "source": [
    "result = pd.DataFrame({\n",
    "'query' : query_comp,\n",
    "'search_result_page_url' : sp_url_comp,\n",
    "'page_url' : page_url_comp,\n",
    "'title' : title_comp,\n",
    "'date' : date_comp,\n",
    "'authors' : authors_comp,\n",
    "'text' : text_comp,\n",
    "'top_image' : top_image_comp,\n",
    "'movies' : movies_comp\n",
    "})\n",
    "\n",
    "result.head()"
   ]
  },
  {
   "cell_type": "code",
   "execution_count": 18,
   "metadata": {},
   "outputs": [],
   "source": [
    "result.to_csv('final_data.csv') "
   ]
  },
  {
   "cell_type": "code",
   "execution_count": null,
   "metadata": {},
   "outputs": [],
   "source": []
  }
 ],
 "metadata": {
  "kernelspec": {
   "display_name": "Python 3",
   "language": "python",
   "name": "python3"
  },
  "language_info": {
   "codemirror_mode": {
    "name": "ipython",
    "version": 3
   },
   "file_extension": ".py",
   "mimetype": "text/x-python",
   "name": "python",
   "nbconvert_exporter": "python",
   "pygments_lexer": "ipython3",
   "version": "3.8.3"
  }
 },
 "nbformat": 4,
 "nbformat_minor": 4
}
